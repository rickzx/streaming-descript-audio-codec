{
 "cells": [
  {
   "cell_type": "code",
   "execution_count": 1,
   "metadata": {},
   "outputs": [
    {
     "name": "stderr",
     "output_type": "stream",
     "text": [
      "[20:55:10] /Users/cfruan/Documents/tvm-unity/src/target/llvm/llvm_instance.cc:226: Error: Using LLVM 19.1.1 with `-mcpu=apple-latest` is not valid in `-mtriple=arm64-apple-macos`, using default `-mcpu=generic`\n",
      "[20:55:10] /Users/cfruan/Documents/tvm-unity/src/target/llvm/llvm_instance.cc:226: Error: Using LLVM 19.1.1 with `-mcpu=apple-latest` is not valid in `-mtriple=arm64-apple-macos`, using default `-mcpu=generic`\n",
      "[20:55:10] /Users/cfruan/Documents/tvm-unity/src/target/llvm/llvm_instance.cc:226: Error: Using LLVM 19.1.1 with `-mcpu=apple-latest` is not valid in `-mtriple=arm64-apple-macos`, using default `-mcpu=generic`\n"
     ]
    },
    {
     "name": "stdout",
     "output_type": "stream",
     "text": [
      "[[[0.68613315 0.46777123 0.4602704  0.7681316  0.4725257  0.9414942\n",
      "   0.16952671 0.6756237  0.53193885 0.5842968 ]\n",
      "  [0.00798621 0.3718034  0.6281481  0.55726165 0.13244139 0.5540062\n",
      "   0.97739136 0.96519315 0.6632463  0.21178755]\n",
      "  [0.57561857 0.9785503  0.49822545 0.00793451 0.8648276  0.6589372\n",
      "   0.16547087 0.34171608 0.55715764 0.6491728 ]]]\n"
     ]
    },
    {
     "data": {
      "text/plain": [
       "array([[[0.6756237 , 0.53193885, 0.5842968 ],\n",
       "        [0.96519315, 0.6632463 , 0.21178755],\n",
       "        [0.34171608, 0.55715764, 0.6491728 ]]], dtype=float32)"
      ]
     },
     "execution_count": 1,
     "metadata": {},
     "output_type": "execute_result"
    }
   ],
   "source": [
    "from typing import List\n",
    "import numpy as np\n",
    "import tvm\n",
    "import tvm.testing\n",
    "from tvm.script import tir as T\n",
    "\n",
    "fcreate = tvm.get_global_func(\"vm.builtin.cached_padding_1d_create\")\n",
    "fforward = tvm.get_global_func(\"vm.builtin.cached_padding_1d_update\")\n",
    "fview = tvm.get_global_func(\"vm.builtin.cached_padding_1d_view\")\n",
    "\n",
    "\n",
    "@T.prim_func\n",
    "def cached_padding_1d_init(\n",
    "    var_cache: T.handle,\n",
    "):\n",
    "    b = T.int32()\n",
    "    c = T.int32()\n",
    "    p = T.int32()\n",
    "\n",
    "    cache = T.match_buffer(var_cache, (b, c, p), \"float32\")\n",
    "    for bb, cc, pp in T.grid(b, c, p):\n",
    "        with T.block(\"cache_init\"):\n",
    "            vb, vc, vp = T.axis.remap(\"SSS\", [bb, cc, pp])\n",
    "            cache[vb, vc, vp] = 0.0\n",
    "\n",
    "\n",
    "@T.prim_func\n",
    "def cached_padding_1d_update(\n",
    "    var_cache: T.handle,\n",
    "    var_data: T.handle,\n",
    "    var_res: T.handle,\n",
    "):\n",
    "    B = T.int32()\n",
    "    c = T.int32()\n",
    "    p = T.int32()\n",
    "\n",
    "    b = T.int32()\n",
    "    n = T.int32()\n",
    "    out = T.int32()\n",
    "\n",
    "    cache = T.match_buffer(var_cache, (B, c, p), \"float32\")\n",
    "    data = T.match_buffer(var_data, (b, c, n), \"float32\")\n",
    "    res = T.match_buffer(var_res, (b, c, out), \"float32\")\n",
    "\n",
    "    for bb, cc, oo in T.grid(b, c, out):\n",
    "        with T.block(\"res_update\"):\n",
    "            vb, vc, vo = T.axis.remap(\"SSS\", [bb, cc, oo])\n",
    "            res[vb, vc, vo] = T.if_then_else(\n",
    "                vo < p, cache[vb, vc, vo], data[vb, vc, vo - p]\n",
    "            )\n",
    "\n",
    "    for bb, cc, pp in T.grid(b, c, p):\n",
    "        with T.block(\"cache_update\"):\n",
    "            vb, vc, vp = T.axis.remap(\"SSS\", [bb, cc, pp])\n",
    "            cache[vb, vc, vp] = res[vb, vc, out - p + vp]\n",
    "\n",
    "\n",
    "@T.prim_func\n",
    "def cached_padding_1d_crop(\n",
    "    var_x: T.handle,\n",
    "    var_res: T.handle,\n",
    "):\n",
    "    b = T.int32()\n",
    "    c = T.int32()\n",
    "    out = T.int32()\n",
    "    n = T.int32()\n",
    "\n",
    "    x = T.match_buffer(var_x, (b, c, out), \"float32\")\n",
    "    res = T.match_buffer(var_res, (b, c, n), \"float32\")\n",
    "\n",
    "    for bb, cc, nn in T.grid(b, c, n):\n",
    "        with T.block(\"res_crop\"):\n",
    "            vb, vc, vn = T.axis.remap(\"SSS\", [bb, cc, nn])\n",
    "            res[vb, vc, vn] = x[vb, vc, vn]\n",
    "\n",
    "\n",
    "def build_tir_func(tir_funcs: List[tvm.tir.PrimFunc], target=\"llvm\"):\n",
    "    return [tvm.build(tir_func, target=target).entry_func for tir_func in tir_funcs]\n",
    "\n",
    "\n",
    "finit, fupdate, fcrop = build_tir_func(\n",
    "    [cached_padding_1d_init, cached_padding_1d_update, cached_padding_1d_crop]\n",
    ")\n",
    "\n",
    "cache = fcreate(\n",
    "    3,\n",
    "    True,\n",
    "    1,\n",
    "    finit,\n",
    "    fupdate,\n",
    "    fcrop,\n",
    ")\n",
    "\n",
    "x = tvm.nd.array(np.random.rand(1, 3, 10).astype(\"float32\"))\n",
    "print(x.asnumpy())\n",
    "fforward(cache, x)\n",
    "fview(cache).asnumpy()"
   ]
  }
 ],
 "metadata": {
  "kernelspec": {
   "display_name": "mlc-audio",
   "language": "python",
   "name": "python3"
  },
  "language_info": {
   "codemirror_mode": {
    "name": "ipython",
    "version": 3
   },
   "file_extension": ".py",
   "mimetype": "text/x-python",
   "name": "python",
   "nbconvert_exporter": "python",
   "pygments_lexer": "ipython3",
   "version": "3.11.9"
  }
 },
 "nbformat": 4,
 "nbformat_minor": 2
}
